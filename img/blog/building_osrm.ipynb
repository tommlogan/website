{
 "cells": [
  {
   "cell_type": "markdown",
   "metadata": {},
   "source": [
    "# Initialising and Querying locally from the OpenSourceRoutingMachine (OSRM)"
   ]
  },
  {
   "cell_type": "markdown",
   "metadata": {},
   "source": [
    "OSRM is an open source equivalent of Google maps and its distance API. Effectively, if you provide OSRM a street network (usually from OpenStreetMap, OSM) and a destination and origin pair, it will determine the fastest route and report the distance and time taken.  \n",
    "This can be done with either walking, biking, or driving and modifying the assumptions for different transport profiles is possible."
   ]
  },
  {
   "cell_type": "markdown",
   "metadata": {},
   "source": [
    "This instructions are similar to those provided [here](https://github.com/cartography/osrm-backend-docker)."
   ]
  },
  {
   "cell_type": "markdown",
   "metadata": {},
   "source": [
    "## 1. Directory structure"
   ]
  },
  {
   "cell_type": "markdown",
   "metadata": {},
   "source": [
    "Create a directory structure, e.g. C:\\osrm-data"
   ]
  },
  {
   "cell_type": "markdown",
   "metadata": {},
   "source": [
    "I will refer to this directory location as XXX"
   ]
  },
  {
   "cell_type": "markdown",
   "metadata": {},
   "source": [
    "## 2. Build Docker"
   ]
  },
  {
   "cell_type": "markdown",
   "metadata": {},
   "source": [
    "### 2.1 Linux/Mac"
   ]
  },
  {
   "cell_type": "markdown",
   "metadata": {},
   "source": [
    "1\\. Install [docker](https://www.docker.com/docker-mac), for linux this will be different"
   ]
  },
  {
   "cell_type": "markdown",
   "metadata": {},
   "source": [
    "2\\. Open a terminal and run the following code"
   ]
  },
  {
   "cell_type": "code",
   "execution_count": null,
   "metadata": {
    "collapsed": true
   },
   "outputs": [],
   "source": [
    "docker build -t \"cartography/osrm-backend-docker\" https://github.com/cartography/osrm-backend-docker"
   ]
  },
  {
   "cell_type": "markdown",
   "metadata": {},
   "source": [
    "This may require `sudo` as a prefix"
   ]
  },
  {
   "cell_type": "markdown",
   "metadata": {},
   "source": [
    "This will build OSRM on your computer"
   ]
  },
  {
   "cell_type": "markdown",
   "metadata": {},
   "source": [
    "### 2.2 Windows"
   ]
  },
  {
   "cell_type": "markdown",
   "metadata": {},
   "source": [
    "Download my GitHub repo using the download zip option from [my github](https://github.com/tommlogan/city_access).\n",
    "Unzip this and just copy the osrm folder (within code) into the directory of you created."
   ]
  },
  {
   "cell_type": "markdown",
   "metadata": {},
   "source": [
    "## 3. Download the street network"
   ]
  },
  {
   "cell_type": "markdown",
   "metadata": {},
   "source": [
    "For this example we'll use a coordinate pair within the state of Delaware (because it is one of the smallest download files).  \n",
    "1. In your internet browser, navigate to http://download.geofabrik.de/  \n",
    "2. Then choose North America and download the .osm.pbf file for Michigan.  \n",
    "3. This will download a file called \"michigan-latest.osm.pbf\""
   ]
  },
  {
   "cell_type": "markdown",
   "metadata": {},
   "source": [
    "## 4. Profiles"
   ]
  },
  {
   "cell_type": "markdown",
   "metadata": {},
   "source": [
    "Profiles refer to the transport mode and inform OSRM the speed someone travels over surfaces etc. and penalties for intersections."
   ]
  },
  {
   "cell_type": "markdown",
   "metadata": {},
   "source": [
    "You can download the general profiles from the OSRM [github page](https://github.com/Project-OSRM/osrm-backend/tree/master/profiles) and edit them as you like."
   ]
  },
  {
   "cell_type": "markdown",
   "metadata": {},
   "source": [
    "You do not need to download the profiles if you are using the Windows setup"
   ]
  },
  {
   "cell_type": "markdown",
   "metadata": {},
   "source": [
    "##  5. Initialise OSRM"
   ]
  },
  {
   "cell_type": "markdown",
   "metadata": {},
   "source": [
    "###  5.1 Mac/Linux"
   ]
  },
  {
   "cell_type": "markdown",
   "metadata": {},
   "source": [
    "Run the following code (you may need to preface with sudo)"
   ]
  },
  {
   "cell_type": "code",
   "execution_count": null,
   "metadata": {
    "collapsed": true
   },
   "outputs": [],
   "source": [
    "docker run -p 5000:5000 --name osrm-api -v XXX/:/osrm-data/ -v XXX/foot.lua:/osrm-build/profile.lua cartography/osrm-backend-docker:latest osrm delaware-latest"
   ]
  },
  {
   "cell_type": "markdown",
   "metadata": {},
   "source": [
    "The network will take a while to build, but the result should say \"running and waiting for requests\""
   ]
  },
  {
   "cell_type": "markdown",
   "metadata": {},
   "source": [
    "### 5.2 Windows (may not work as OSRM is still working on it)"
   ]
  },
  {
   "cell_type": "markdown",
   "metadata": {},
   "source": [
    "The following code needs to be pasted into the Windows terminal"
   ]
  },
  {
   "cell_type": "code",
   "execution_count": null,
   "metadata": {
    "collapsed": true
   },
   "outputs": [],
   "source": [
    "XXX/osrm/osrm-extract.exe XXX/delaware-latest.osm.pbf -p XXX/osrm/profiles/foot.luab"
   ]
  },
  {
   "cell_type": "code",
   "execution_count": null,
   "metadata": {
    "collapsed": true
   },
   "outputs": [],
   "source": [
    "XXX/osrm/osrm-contract.exe XXX/delaware-latest.osrm"
   ]
  },
  {
   "cell_type": "code",
   "execution_count": null,
   "metadata": {
    "collapsed": true
   },
   "outputs": [],
   "source": [
    "XXX/osrm//osrm-routed.exe XXX/delaware-latest.osrm --port 5000"
   ]
  },
  {
   "cell_type": "markdown",
   "metadata": {},
   "source": [
    "The network will take a while to build, but the result should say \"running and waiting for requests\""
   ]
  },
  {
   "cell_type": "markdown",
   "metadata": {},
   "source": [
    "## 6. Test "
   ]
  },
  {
   "cell_type": "markdown",
   "metadata": {},
   "source": [
    "Effectively you're done. You've set up OSRM on your computer and now it is waiting for queries."
   ]
  },
  {
   "cell_type": "markdown",
   "metadata": {},
   "source": [
    "To test, try pasting the following into your browser url"
   ]
  },
  {
   "cell_type": "code",
   "execution_count": null,
   "metadata": {
    "collapsed": true
   },
   "outputs": [],
   "source": [
    "http://localhost:5000/route/v1/walking/-75.556521,39.746364;-75.545551,39.747228?overview=false"
   ]
  },
  {
   "cell_type": "markdown",
   "metadata": {},
   "source": [
    "Note that this is the url of the server, the mode, the lon & lat of the origin ; then the lon & lat of the destination"
   ]
  },
  {
   "cell_type": "markdown",
   "metadata": {},
   "source": [
    "To run this with a large number of queries you need to generate wrapper code and a set of origin-destination points to run.\n",
    "Examples of such code can be found here:\n",
    "1. Andrew Nisbet's [github](https://github.com/ajnisbet/biking-to-work) - a [summary](https://www.andrewnisbet.nz/blog/bike-radius) of his work (Python)\n",
    "2. My [github](https://github.com/tommlogan/city_access) - the link to our paper (pending) - a link to a [website](https://adaptingcities.org/city_access) explaining it (R)\n",
    "3. Logan Noel's [code](https://github.com/GeoDaCenter/contracts/blob/master/analytics/query_osrm.py) as part of UChicago's GeoDa work (Python)"
   ]
  },
  {
   "cell_type": "markdown",
   "metadata": {},
   "source": [
    "<div style=\"text-align: right\"> Created with Jupyter, by Tom Logan. </div>"
   ]
  }
 ],
 "metadata": {
  "kernelspec": {
   "display_name": "Python 3",
   "language": "python",
   "name": "python3"
  },
  "language_info": {
   "codemirror_mode": {
    "name": "ipython",
    "version": 3
   },
   "file_extension": ".py",
   "mimetype": "text/x-python",
   "name": "python",
   "nbconvert_exporter": "python",
   "pygments_lexer": "ipython3",
   "version": "3.6.1"
  }
 },
 "nbformat": 4,
 "nbformat_minor": 2
}
